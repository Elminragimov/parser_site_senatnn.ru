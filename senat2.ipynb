{
  "nbformat": 4,
  "nbformat_minor": 0,
  "metadata": {
    "colab": {
      "name": "senat2.ipynb",
      "provenance": [],
      "collapsed_sections": []
    },
    "kernelspec": {
      "name": "python3",
      "display_name": "Python 3"
    },
    "language_info": {
      "name": "python"
    }
  },
  "cells": [
    {
      "cell_type": "code",
      "execution_count": 1,
      "metadata": {
        "colab": {
          "base_uri": "https://localhost:8080/"
        },
        "id": "L8yq6MpJ-dN9",
        "outputId": "8a68c6a9-a9f1-4083-b158-5d66ccf00523"
      },
      "outputs": [
        {
          "output_type": "stream",
          "name": "stdout",
          "text": [
            "Collecting pyspark==3.0.1\n",
            "  Downloading pyspark-3.0.1.tar.gz (204.2 MB)\n",
            "\u001b[K     |████████████████████████████████| 204.2 MB 33 kB/s \n",
            "\u001b[?25hCollecting py4j==0.10.9\n",
            "  Downloading py4j-0.10.9-py2.py3-none-any.whl (198 kB)\n",
            "\u001b[K     |████████████████████████████████| 198 kB 64.4 MB/s \n",
            "\u001b[?25hBuilding wheels for collected packages: pyspark\n",
            "  Building wheel for pyspark (setup.py) ... \u001b[?25l\u001b[?25hdone\n",
            "  Created wheel for pyspark: filename=pyspark-3.0.1-py2.py3-none-any.whl size=204612246 sha256=72daa4f63f17d49d1a09bab61b78c77bf0d3eaff2c749fbb9348e51b53f9f731\n",
            "  Stored in directory: /root/.cache/pip/wheels/5e/34/fa/b37b5cef503fc5148b478b2495043ba61b079120b7ff379f9b\n",
            "Successfully built pyspark\n",
            "Installing collected packages: py4j, pyspark\n",
            "Successfully installed py4j-0.10.9 pyspark-3.0.1\n"
          ]
        }
      ],
      "source": [
        "pip install pyspark==3.0.1 py4j==0.10.9"
      ]
    },
    {
      "cell_type": "code",
      "source": [
        "from pyspark.sql import SparkSession\n",
        "from pyspark.sql.types import *\n",
        "import pyspark.sql.functions as F"
      ],
      "metadata": {
        "id": "-zRqH7zv-xof"
      },
      "execution_count": 2,
      "outputs": []
    },
    {
      "cell_type": "code",
      "source": [
        "spark = SparkSession.builder\\\n",
        "        .master(\"local[*]\")\\\n",
        "        .appName('PySpark_Tutorial')\\\n",
        "        .getOrCreate()\n",
        "\n",
        "\n",
        "data_schema = [ \n",
        "               StructField('id', StringType(), False),\n",
        "               StructField('title', StringType(), True),\n",
        "               StructField('price_old',DoubleType(), True),\n",
        "               StructField('price_new', DoubleType(), True),\n",
        "               StructField('link', StringType(), True),\n",
        "               StructField('img', StringType(), True),\n",
        "               \n",
        "            ]\n",
        "\n",
        "final_struc = StructType(fields = data_schema)\n",
        "\n",
        "data = spark.read.csv(\n",
        "    '/content/ring.csv',\n",
        "    sep=';',\n",
        "    header=True,\n",
        "    schema=final_struc \n",
        ")"
      ],
      "metadata": {
        "id": "IHo1eA5w-1eL"
      },
      "execution_count": 3,
      "outputs": []
    },
    {
      "cell_type": "code",
      "source": [
        "data1= data.withColumn('title', F.split(F.col('title'), \",\").getItem(0))\n",
        "\n",
        "output1 =(\n",
        "    data1 \n",
        "    .groupBy('title')\n",
        "    .agg(  \n",
        "        F.max('price_new').alias(\"max cost\"),\n",
        "        F.min('price_new').alias(\"min cost\"))\n",
        "    .orderBy('title')\n",
        ")"
      ],
      "metadata": {
        "id": "uaBva-sc_Ko6"
      },
      "execution_count": 5,
      "outputs": []
    },
    {
      "cell_type": "code",
      "source": [
        "output1.coalesce(1).write.mode(\"overwrite\").format(\"csv\").save(\"ring_max_min.csv\")"
      ],
      "metadata": {
        "id": "FXwrQM0a-8ZO"
      },
      "execution_count": 8,
      "outputs": []
    },
    {
      "cell_type": "code",
      "source": [
        "df = data.withColumn('procent',(1 - data['price_new']/(data['price_old']))).orderBy(F.col(\"procent\").desc())"
      ],
      "metadata": {
        "id": "PXYXmIvVAr-0"
      },
      "execution_count": 17,
      "outputs": []
    },
    {
      "cell_type": "code",
      "source": [
        "df.coalesce(1).write.mode(\"overwrite\").format(\"csv\").save(\"ring_top.csv\")"
      ],
      "metadata": {
        "id": "_0kNJlI1Bz3O"
      },
      "execution_count": null,
      "outputs": []
    }
  ]
}